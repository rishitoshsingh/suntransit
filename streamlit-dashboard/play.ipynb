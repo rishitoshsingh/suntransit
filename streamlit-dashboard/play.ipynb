{
 "cells": [
  {
   "cell_type": "code",
   "execution_count": 60,
   "id": "a09285f3",
   "metadata": {},
   "outputs": [],
   "source": [
    "import pandas as pd\n",
    "import os\n",
    "DATA_FOLDER = {\n",
    "    \"Phoenix\": \"src/data/valley_metro\",\n",
    "    \"Boston\": \"src/data/mbta\",\n",
    "}"
   ]
  },
  {
   "cell_type": "code",
   "execution_count": 61,
   "id": "b0175853",
   "metadata": {},
   "outputs": [],
   "source": [
    "city= \"Boston\"  # Example city, can be changed to \"Boston\""
   ]
  },
  {
   "cell_type": "code",
   "execution_count": 62,
   "id": "7723102b",
   "metadata": {},
   "outputs": [
    {
     "name": "stderr",
     "output_type": "stream",
     "text": [
      "/var/folders/nr/1tw88k6s4xg8ng602yz6f4h00000gn/T/ipykernel_64928/791343193.py:11: DtypeWarning: Columns (0) have mixed types. Specify dtype option on import or set low_memory=False.\n",
      "  shapes_df = pd.read_csv(os.path.join(data_path, \"shapes.txt\"))\n"
     ]
    }
   ],
   "source": [
    "gtfs_columns = {\n",
    "    \"trips.txt\": [\"route_id\", \"trip_id\", \"trip_headsign\", \"shape_id\"],\n",
    "    \"routes.txt\": [\"route_id\", \"route_short_name\", \"route_color\"],\n",
    "    \"shapes.txt\": None  # Load all columns\n",
    "}\n",
    "\n",
    "# Load the GTFS data\n",
    "data_path = DATA_FOLDER[city]\n",
    "trips_df = pd.read_csv(os.path.join(data_path, \"trips.txt\"), usecols=gtfs_columns[\"trips.txt\"])\n",
    "routes_df = pd.read_csv(os.path.join(data_path, \"routes.txt\"), usecols=gtfs_columns[\"routes.txt\"])\n",
    "shapes_df = pd.read_csv(os.path.join(data_path, \"shapes.txt\"))"
   ]
  },
  {
   "cell_type": "code",
   "execution_count": 63,
   "id": "958bbbd6",
   "metadata": {},
   "outputs": [
    {
     "data": {
      "application/vnd.microsoft.datawrangler.viewer.v0+json": {
       "columns": [
        {
         "name": "index",
         "rawType": "object",
         "type": "string"
        },
        {
         "name": "0",
         "rawType": "object",
         "type": "unknown"
        }
       ],
       "ref": "2e6eb15c-159f-4a34-8fd6-dfad91586b7a",
       "rows": [
        [
         "route_id",
         "object"
        ],
        [
         "trip_id",
         "object"
        ],
        [
         "trip_headsign",
         "object"
        ],
        [
         "shape_id",
         "object"
        ]
       ],
       "shape": {
        "columns": 1,
        "rows": 4
       }
      },
      "text/plain": [
       "route_id         object\n",
       "trip_id          object\n",
       "trip_headsign    object\n",
       "shape_id         object\n",
       "dtype: object"
      ]
     },
     "execution_count": 63,
     "metadata": {},
     "output_type": "execute_result"
    }
   ],
   "source": [
    "trips_df.dtypes"
   ]
  },
  {
   "cell_type": "code",
   "execution_count": 64,
   "id": "aacb7e48",
   "metadata": {},
   "outputs": [],
   "source": [
    "routes_df[\"route_id\"] = routes_df[\"route_id\"].astype(str)\n",
    "trips_df[\"route_id\"] = trips_df[\"route_id\"].astype(str)\n",
    "trips_df[\"trip_id\"] = trips_df[\"trip_id\"].astype(str)\n",
    "trips_df = pd.merge(trips_df, routes_df, on='route_id')"
   ]
  },
  {
   "cell_type": "code",
   "execution_count": 65,
   "id": "f34290ad",
   "metadata": {},
   "outputs": [
    {
     "name": "stderr",
     "output_type": "stream",
     "text": [
      "/var/folders/nr/1tw88k6s4xg8ng602yz6f4h00000gn/T/ipykernel_64928/2675517433.py:4: DeprecationWarning: DataFrameGroupBy.apply operated on the grouping columns. This behavior is deprecated, and in a future version of pandas the grouping columns will be excluded from the operation. Either pass `include_groups=False` to exclude the groupings or explicitly select the grouping columns after groupby to silence this warning.\n",
      "  .apply(lambda g: [[lon, lat] for lon, lat in zip(g[\"shape_pt_lon\"], g[\"shape_pt_lat\"])])\n"
     ]
    }
   ],
   "source": [
    "shape_paths_df = (\n",
    "    shapes_df.sort_values(by=[\"shape_id\", \"shape_pt_sequence\"])\n",
    "      .groupby(\"shape_id\")\n",
    "      .apply(lambda g: [[lon, lat] for lon, lat in zip(g[\"shape_pt_lon\"], g[\"shape_pt_lat\"])])\n",
    "      .reset_index(name=\"route_path\")\n",
    ")"
   ]
  },
  {
   "cell_type": "code",
   "execution_count": 66,
   "id": "f53d5009",
   "metadata": {},
   "outputs": [
    {
     "data": {
      "text/plain": [
       "Index(['route_id', 'trip_id', 'trip_headsign', 'shape_id', 'route_short_name',\n",
       "       'route_color', 'route_path'],\n",
       "      dtype='object')"
      ]
     },
     "execution_count": 66,
     "metadata": {},
     "output_type": "execute_result"
    }
   ],
   "source": [
    "trips_df = pd.merge(trips_df, shape_paths_df, on='shape_id', how='left')\n",
    "trips_df.columns"
   ]
  },
  {
   "cell_type": "code",
   "execution_count": 67,
   "id": "6c0e544b",
   "metadata": {},
   "outputs": [
    {
     "data": {
      "application/vnd.microsoft.datawrangler.viewer.v0+json": {
       "columns": [
        {
         "name": "index",
         "rawType": "object",
         "type": "string"
        },
        {
         "name": "0",
         "rawType": "int64",
         "type": "integer"
        }
       ],
       "ref": "2346c19a-123b-4c08-89b2-9510e414edd5",
       "rows": [
        [
         "route_id",
         "0"
        ],
        [
         "trip_id",
         "0"
        ],
        [
         "trip_headsign",
         "0"
        ],
        [
         "shape_id",
         "0"
        ],
        [
         "route_short_name",
         "9297"
        ],
        [
         "route_color",
         "0"
        ],
        [
         "route_path",
         "20333"
        ]
       ],
       "shape": {
        "columns": 1,
        "rows": 7
       }
      },
      "text/plain": [
       "route_id                0\n",
       "trip_id                 0\n",
       "trip_headsign           0\n",
       "shape_id                0\n",
       "route_short_name     9297\n",
       "route_color             0\n",
       "route_path          20333\n",
       "dtype: int64"
      ]
     },
     "execution_count": 67,
     "metadata": {},
     "output_type": "execute_result"
    }
   ],
   "source": [
    "trips_df.isna().sum()"
   ]
  },
  {
   "cell_type": "code",
   "execution_count": 68,
   "id": "5a048c6d",
   "metadata": {},
   "outputs": [],
   "source": [
    "def hex_to_rgb(h):\n",
    "    h = h.lstrip(\"#\")\n",
    "    return tuple(int(h[i : i + 2], 16) for i in (0, 2, 4))"
   ]
  },
  {
   "cell_type": "code",
   "execution_count": 69,
   "id": "a9075deb",
   "metadata": {},
   "outputs": [
    {
     "data": {
      "application/vnd.microsoft.datawrangler.viewer.v0+json": {
       "columns": [
        {
         "name": "index",
         "rawType": "int64",
         "type": "integer"
        },
        {
         "name": "route_id",
         "rawType": "object",
         "type": "string"
        },
        {
         "name": "trip_id",
         "rawType": "object",
         "type": "string"
        },
        {
         "name": "trip_headsign",
         "rawType": "object",
         "type": "string"
        },
        {
         "name": "shape_id",
         "rawType": "object",
         "type": "string"
        },
        {
         "name": "route_short_name",
         "rawType": "object",
         "type": "unknown"
        },
        {
         "name": "route_color",
         "rawType": "object",
         "type": "unknown"
        },
        {
         "name": "route_path",
         "rawType": "object",
         "type": "unknown"
        }
       ],
       "ref": "db2d7904-1d63-43cc-a32e-614aa07d923e",
       "rows": [
        [
         "0",
         "1",
         "69696876",
         "Harvard",
         "010150",
         "1",
         "(255, 199, 44)",
         null
        ],
        [
         "1",
         "1",
         "69696879",
         "Harvard",
         "010150",
         "1",
         "(255, 199, 44)",
         null
        ],
        [
         "2",
         "1",
         "69696881",
         "Harvard",
         "010150",
         "1",
         "(255, 199, 44)",
         null
        ],
        [
         "3",
         "1",
         "69696889",
         "Harvard",
         "010150",
         "1",
         "(255, 199, 44)",
         null
        ],
        [
         "4",
         "1",
         "69696893",
         "Harvard",
         "010150",
         "1",
         "(255, 199, 44)",
         null
        ],
        [
         "5",
         "1",
         "69696902",
         "Harvard",
         "010150",
         "1",
         "(255, 199, 44)",
         null
        ],
        [
         "6",
         "1",
         "69696907",
         "Harvard",
         "010150",
         "1",
         "(255, 199, 44)",
         null
        ],
        [
         "7",
         "1",
         "69696909",
         "Harvard",
         "010150",
         "1",
         "(255, 199, 44)",
         null
        ],
        [
         "8",
         "1",
         "69696917",
         "Harvard",
         "010150",
         "1",
         "(255, 199, 44)",
         null
        ],
        [
         "9",
         "1",
         "69696924",
         "Harvard",
         "010150",
         "1",
         "(255, 199, 44)",
         null
        ],
        [
         "10",
         "1",
         "69696926",
         "Harvard",
         "010150",
         "1",
         "(255, 199, 44)",
         null
        ],
        [
         "11",
         "1",
         "69696938",
         "Harvard",
         "010150",
         "1",
         "(255, 199, 44)",
         null
        ],
        [
         "12",
         "1",
         "69696940",
         "Harvard",
         "010150",
         "1",
         "(255, 199, 44)",
         null
        ],
        [
         "13",
         "1",
         "69696943",
         "Harvard",
         "010150",
         "1",
         "(255, 199, 44)",
         null
        ],
        [
         "14",
         "1",
         "69696944",
         "Harvard",
         "010150",
         "1",
         "(255, 199, 44)",
         null
        ],
        [
         "15",
         "1",
         "69696948",
         "Harvard",
         "010150",
         "1",
         "(255, 199, 44)",
         null
        ],
        [
         "16",
         "1",
         "69696958",
         "Harvard",
         "010150",
         "1",
         "(255, 199, 44)",
         null
        ],
        [
         "17",
         "1",
         "69696962",
         "Harvard",
         "010150",
         "1",
         "(255, 199, 44)",
         null
        ],
        [
         "18",
         "1",
         "69696969",
         "Harvard",
         "010150",
         "1",
         "(255, 199, 44)",
         null
        ],
        [
         "19",
         "1",
         "69696971",
         "Harvard",
         "010150",
         "1",
         "(255, 199, 44)",
         null
        ],
        [
         "20",
         "1",
         "69696980",
         "Harvard",
         "010150",
         "1",
         "(255, 199, 44)",
         null
        ],
        [
         "21",
         "1",
         "69696986",
         "Harvard",
         "010150",
         "1",
         "(255, 199, 44)",
         null
        ],
        [
         "22",
         "1",
         "69696988",
         "Harvard",
         "010150",
         "1",
         "(255, 199, 44)",
         null
        ],
        [
         "23",
         "1",
         "69697007",
         "Harvard",
         "010150",
         "1",
         "(255, 199, 44)",
         null
        ],
        [
         "24",
         "1",
         "69697009",
         "Harvard",
         "010150",
         "1",
         "(255, 199, 44)",
         null
        ],
        [
         "25",
         "1",
         "69697013",
         "Harvard",
         "010150",
         "1",
         "(255, 199, 44)",
         null
        ],
        [
         "26",
         "1",
         "69702959",
         "Harvard",
         "010150",
         "1",
         "(255, 199, 44)",
         null
        ],
        [
         "27",
         "1",
         "69702968",
         "Harvard",
         "010150",
         "1",
         "(255, 199, 44)",
         null
        ],
        [
         "28",
         "1",
         "69702969",
         "Harvard",
         "010150",
         "1",
         "(255, 199, 44)",
         null
        ],
        [
         "29",
         "1",
         "69702979",
         "Harvard",
         "010150",
         "1",
         "(255, 199, 44)",
         null
        ],
        [
         "30",
         "1",
         "69702981",
         "Harvard",
         "010150",
         "1",
         "(255, 199, 44)",
         null
        ],
        [
         "31",
         "1",
         "69702986",
         "Harvard",
         "010150",
         "1",
         "(255, 199, 44)",
         null
        ],
        [
         "32",
         "1",
         "69702988",
         "Harvard",
         "010150",
         "1",
         "(255, 199, 44)",
         null
        ],
        [
         "33",
         "1",
         "69702989",
         "Harvard",
         "010150",
         "1",
         "(255, 199, 44)",
         null
        ],
        [
         "34",
         "1",
         "69702994",
         "Harvard",
         "010150",
         "1",
         "(255, 199, 44)",
         null
        ],
        [
         "35",
         "1",
         "69702995",
         "Harvard",
         "010150",
         "1",
         "(255, 199, 44)",
         null
        ],
        [
         "36",
         "1",
         "69702997",
         "Harvard",
         "010150",
         "1",
         "(255, 199, 44)",
         null
        ],
        [
         "37",
         "1",
         "69703005",
         "Harvard",
         "010150",
         "1",
         "(255, 199, 44)",
         null
        ],
        [
         "38",
         "1",
         "69703006",
         "Harvard",
         "010150",
         "1",
         "(255, 199, 44)",
         null
        ],
        [
         "39",
         "1",
         "69703009",
         "Harvard",
         "010150",
         "1",
         "(255, 199, 44)",
         null
        ],
        [
         "40",
         "1",
         "69703010",
         "Harvard",
         "010150",
         "1",
         "(255, 199, 44)",
         null
        ],
        [
         "41",
         "1",
         "69703018",
         "Harvard",
         "010150",
         "1",
         "(255, 199, 44)",
         null
        ],
        [
         "42",
         "1",
         "69703019",
         "Harvard",
         "010150",
         "1",
         "(255, 199, 44)",
         null
        ],
        [
         "43",
         "1",
         "69703022",
         "Harvard",
         "010150",
         "1",
         "(255, 199, 44)",
         null
        ],
        [
         "44",
         "1",
         "69703024",
         "Harvard",
         "010150",
         "1",
         "(255, 199, 44)",
         null
        ],
        [
         "45",
         "1",
         "69703026",
         "Harvard",
         "010150",
         "1",
         "(255, 199, 44)",
         null
        ],
        [
         "46",
         "1",
         "69703027",
         "Harvard",
         "010150",
         "1",
         "(255, 199, 44)",
         null
        ],
        [
         "47",
         "1",
         "69703033",
         "Harvard",
         "010150",
         "1",
         "(255, 199, 44)",
         null
        ],
        [
         "48",
         "1",
         "69703041",
         "Harvard",
         "010150",
         "1",
         "(255, 199, 44)",
         null
        ],
        [
         "49",
         "1",
         "69703044",
         "Harvard",
         "010150",
         "1",
         "(255, 199, 44)",
         null
        ]
       ],
       "shape": {
        "columns": 7,
        "rows": 45328
       }
      },
      "text/html": [
       "<div>\n",
       "<style scoped>\n",
       "    .dataframe tbody tr th:only-of-type {\n",
       "        vertical-align: middle;\n",
       "    }\n",
       "\n",
       "    .dataframe tbody tr th {\n",
       "        vertical-align: top;\n",
       "    }\n",
       "\n",
       "    .dataframe thead th {\n",
       "        text-align: right;\n",
       "    }\n",
       "</style>\n",
       "<table border=\"1\" class=\"dataframe\">\n",
       "  <thead>\n",
       "    <tr style=\"text-align: right;\">\n",
       "      <th></th>\n",
       "      <th>route_id</th>\n",
       "      <th>trip_id</th>\n",
       "      <th>trip_headsign</th>\n",
       "      <th>shape_id</th>\n",
       "      <th>route_short_name</th>\n",
       "      <th>route_color</th>\n",
       "      <th>route_path</th>\n",
       "    </tr>\n",
       "  </thead>\n",
       "  <tbody>\n",
       "    <tr>\n",
       "      <th>0</th>\n",
       "      <td>1</td>\n",
       "      <td>69696876</td>\n",
       "      <td>Harvard</td>\n",
       "      <td>010150</td>\n",
       "      <td>1</td>\n",
       "      <td>(255, 199, 44)</td>\n",
       "      <td>NaN</td>\n",
       "    </tr>\n",
       "    <tr>\n",
       "      <th>1</th>\n",
       "      <td>1</td>\n",
       "      <td>69696879</td>\n",
       "      <td>Harvard</td>\n",
       "      <td>010150</td>\n",
       "      <td>1</td>\n",
       "      <td>(255, 199, 44)</td>\n",
       "      <td>NaN</td>\n",
       "    </tr>\n",
       "    <tr>\n",
       "      <th>2</th>\n",
       "      <td>1</td>\n",
       "      <td>69696881</td>\n",
       "      <td>Harvard</td>\n",
       "      <td>010150</td>\n",
       "      <td>1</td>\n",
       "      <td>(255, 199, 44)</td>\n",
       "      <td>NaN</td>\n",
       "    </tr>\n",
       "    <tr>\n",
       "      <th>3</th>\n",
       "      <td>1</td>\n",
       "      <td>69696889</td>\n",
       "      <td>Harvard</td>\n",
       "      <td>010150</td>\n",
       "      <td>1</td>\n",
       "      <td>(255, 199, 44)</td>\n",
       "      <td>NaN</td>\n",
       "    </tr>\n",
       "    <tr>\n",
       "      <th>4</th>\n",
       "      <td>1</td>\n",
       "      <td>69696893</td>\n",
       "      <td>Harvard</td>\n",
       "      <td>010150</td>\n",
       "      <td>1</td>\n",
       "      <td>(255, 199, 44)</td>\n",
       "      <td>NaN</td>\n",
       "    </tr>\n",
       "    <tr>\n",
       "      <th>...</th>\n",
       "      <td>...</td>\n",
       "      <td>...</td>\n",
       "      <td>...</td>\n",
       "      <td>...</td>\n",
       "      <td>...</td>\n",
       "      <td>...</td>\n",
       "      <td>...</td>\n",
       "    </tr>\n",
       "    <tr>\n",
       "      <th>45323</th>\n",
       "      <td>Shuttle-StateSullivan</td>\n",
       "      <td>StateSullivan-1-sample</td>\n",
       "      <td>Sullivan (Shuttle)</td>\n",
       "      <td>StateToSullivan-S</td>\n",
       "      <td>Orange Line Shuttle</td>\n",
       "      <td>(255, 199, 44)</td>\n",
       "      <td>[[-71.0568, 42.359], [-71.0568, 42.35905], [-7...</td>\n",
       "    </tr>\n",
       "    <tr>\n",
       "      <th>45324</th>\n",
       "      <td>Shuttle-SuffolkDownsWonderland</td>\n",
       "      <td>SuffolkDownsWonderland-0-sample</td>\n",
       "      <td>Suffolk Downs (Shuttle)</td>\n",
       "      <td>WonderlandToSuffolkDowns-S</td>\n",
       "      <td>Blue Line Shuttle</td>\n",
       "      <td>(255, 199, 44)</td>\n",
       "      <td>[[-70.99213, 42.41359], [-70.99219, 42.41367],...</td>\n",
       "    </tr>\n",
       "    <tr>\n",
       "      <th>45325</th>\n",
       "      <td>Shuttle-SuffolkDownsWonderland</td>\n",
       "      <td>SuffolkDownsWonderland-1-sample</td>\n",
       "      <td>Wonderland (Shuttle)</td>\n",
       "      <td>SuffolkDownsToWonderland-S</td>\n",
       "      <td>Blue Line Shuttle</td>\n",
       "      <td>(255, 199, 44)</td>\n",
       "      <td>[[-70.99688, 42.39017], [-70.99657, 42.39042],...</td>\n",
       "    </tr>\n",
       "    <tr>\n",
       "      <th>45326</th>\n",
       "      <td>Shuttle-TFGreenWickfordJunction</td>\n",
       "      <td>TFGreenWickfordJunction-0-sample</td>\n",
       "      <td>Wickford Junction (Shuttle)</td>\n",
       "      <td>TFGreenToWickfordJunction-S</td>\n",
       "      <td>Providence Line Shuttle</td>\n",
       "      <td>(255, 199, 44)</td>\n",
       "      <td>[[-71.44345, 41.72757], [-71.44334, 41.72785],...</td>\n",
       "    </tr>\n",
       "    <tr>\n",
       "      <th>45327</th>\n",
       "      <td>Shuttle-TFGreenWickfordJunction</td>\n",
       "      <td>TFGreenWickfordJunction-1-sample</td>\n",
       "      <td>TF Green Airport (Shuttle)</td>\n",
       "      <td>WickfordJunctionToTFGreen-S</td>\n",
       "      <td>Providence Line Shuttle</td>\n",
       "      <td>(255, 199, 44)</td>\n",
       "      <td>[[-71.49177, 41.581], [-71.49206, 41.58111], [...</td>\n",
       "    </tr>\n",
       "  </tbody>\n",
       "</table>\n",
       "<p>45328 rows × 7 columns</p>\n",
       "</div>"
      ],
      "text/plain": [
       "                              route_id                           trip_id  \\\n",
       "0                                    1                          69696876   \n",
       "1                                    1                          69696879   \n",
       "2                                    1                          69696881   \n",
       "3                                    1                          69696889   \n",
       "4                                    1                          69696893   \n",
       "...                                ...                               ...   \n",
       "45323            Shuttle-StateSullivan            StateSullivan-1-sample   \n",
       "45324   Shuttle-SuffolkDownsWonderland   SuffolkDownsWonderland-0-sample   \n",
       "45325   Shuttle-SuffolkDownsWonderland   SuffolkDownsWonderland-1-sample   \n",
       "45326  Shuttle-TFGreenWickfordJunction  TFGreenWickfordJunction-0-sample   \n",
       "45327  Shuttle-TFGreenWickfordJunction  TFGreenWickfordJunction-1-sample   \n",
       "\n",
       "                     trip_headsign                     shape_id  \\\n",
       "0                          Harvard                       010150   \n",
       "1                          Harvard                       010150   \n",
       "2                          Harvard                       010150   \n",
       "3                          Harvard                       010150   \n",
       "4                          Harvard                       010150   \n",
       "...                            ...                          ...   \n",
       "45323           Sullivan (Shuttle)            StateToSullivan-S   \n",
       "45324      Suffolk Downs (Shuttle)   WonderlandToSuffolkDowns-S   \n",
       "45325         Wonderland (Shuttle)   SuffolkDownsToWonderland-S   \n",
       "45326  Wickford Junction (Shuttle)  TFGreenToWickfordJunction-S   \n",
       "45327   TF Green Airport (Shuttle)  WickfordJunctionToTFGreen-S   \n",
       "\n",
       "              route_short_name     route_color  \\\n",
       "0                            1  (255, 199, 44)   \n",
       "1                            1  (255, 199, 44)   \n",
       "2                            1  (255, 199, 44)   \n",
       "3                            1  (255, 199, 44)   \n",
       "4                            1  (255, 199, 44)   \n",
       "...                        ...             ...   \n",
       "45323      Orange Line Shuttle  (255, 199, 44)   \n",
       "45324        Blue Line Shuttle  (255, 199, 44)   \n",
       "45325        Blue Line Shuttle  (255, 199, 44)   \n",
       "45326  Providence Line Shuttle  (255, 199, 44)   \n",
       "45327  Providence Line Shuttle  (255, 199, 44)   \n",
       "\n",
       "                                              route_path  \n",
       "0                                                    NaN  \n",
       "1                                                    NaN  \n",
       "2                                                    NaN  \n",
       "3                                                    NaN  \n",
       "4                                                    NaN  \n",
       "...                                                  ...  \n",
       "45323  [[-71.0568, 42.359], [-71.0568, 42.35905], [-7...  \n",
       "45324  [[-70.99213, 42.41359], [-70.99219, 42.41367],...  \n",
       "45325  [[-70.99688, 42.39017], [-70.99657, 42.39042],...  \n",
       "45326  [[-71.44345, 41.72757], [-71.44334, 41.72785],...  \n",
       "45327  [[-71.49177, 41.581], [-71.49206, 41.58111], [...  \n",
       "\n",
       "[45328 rows x 7 columns]"
      ]
     },
     "execution_count": 69,
     "metadata": {},
     "output_type": "execute_result"
    }
   ],
   "source": [
    "trips_df[\"route_color\"] = trips_df[\"route_color\"].apply(hex_to_rgb)\n",
    "trips_df"
   ]
  },
  {
   "cell_type": "code",
   "execution_count": null,
   "id": "c5c17260",
   "metadata": {},
   "outputs": [],
   "source": []
  }
 ],
 "metadata": {
  "kernelspec": {
   "display_name": "base",
   "language": "python",
   "name": "python3"
  },
  "language_info": {
   "codemirror_mode": {
    "name": "ipython",
    "version": 3
   },
   "file_extension": ".py",
   "mimetype": "text/x-python",
   "name": "python",
   "nbconvert_exporter": "python",
   "pygments_lexer": "ipython3",
   "version": "3.11.8"
  }
 },
 "nbformat": 4,
 "nbformat_minor": 5
}
